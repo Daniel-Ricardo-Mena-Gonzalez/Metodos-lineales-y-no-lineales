{
 "cells": [
  {
   "cell_type": "code",
   "execution_count": 3,
   "metadata": {},
   "outputs": [],
   "source": [
    "#metodos numericos\n",
    "#4ºA SISTEMAS COMPUTACIONALES\n",
    "#DANIEL RICARDO MENA GONZALEZ-19070021\n",
    "#metodo de jacobi\n",
    "import numpy as np"
   ]
  },
  {
   "cell_type": "code",
   "execution_count": 4,
   "metadata": {},
   "outputs": [],
   "source": [
    "T=np.asarray([[0,1/3,-1/3],[-1/2,0,-1/3],[-3/7,-3/7,0]])\n",
    "c=np.asarray([1/3,0,4/7])\n",
    "x=np.asarray([0,0,0])"
   ]
  },
  {
   "cell_type": "code",
   "execution_count": 5,
   "metadata": {},
   "outputs": [
    {
     "name": "stdout",
     "output_type": "stream",
     "text": [
      "iteacion:  1 vector resultado:  [0.33333333 0.         0.57142857] error:  1.0\n",
      "iteacion:  2 vector resultado:  [ 0.14285714 -0.35714286  0.42857143] error:  0.8333333333333333\n",
      "iteacion:  3 vector resultado:  [ 0.07142857 -0.21428571  0.66326531] error:  0.35384615384615387\n",
      "iteacion:  4 vector resultado:  [ 0.04081633 -0.25680272  0.63265306] error:  0.06720430107526885\n",
      "iteacion:  5 vector resultado:  [ 0.03684807 -0.23129252  0.66399417] error:  0.047200878155872754\n",
      "iteacion:  6 vector resultado:  [ 0.03490444 -0.23975543  0.6547619 ] error:  0.014100185528757097\n",
      "iteacion:  7 vector resultado:  [ 0.03516089 -0.23570619  0.65922185] error:  0.0067654723984521626\n"
     ]
    }
   ],
   "source": [
    "#ecuacion de resultado X^K+1=T*x+c\n",
    "error=1\n",
    "i=0\n",
    "while error>0.01:\n",
    "    i=i+1\n",
    "    resultado=np.dot(T,x)+c\n",
    "    numerador=np.amax(abs(resultado-x))\n",
    "    denominador=np.amax(abs(resultado))\n",
    "    error= numerador/denominador\n",
    "    print(\"iteacion: \",i,\"vector resultado: \",resultado,\"error: \",error)\n",
    "    x=resultado"
   ]
  },
  {
   "cell_type": "code",
   "execution_count": 7,
   "metadata": {},
   "outputs": [],
   "source": [
    "#metodo de gauss seidel\n",
    "import numpy as np\n",
    "T = np.asarray([[0,1/3,-1/3],[-1/2,0,-1/3],[-3/7,-3/7,0]])\n",
    "c=np.asarray([1/3,0,4/7])\n",
    "x=np.asarray([0,0,0])\n",
    "x=x.astype(float)\n",
    "xcambiante=x\n",
    "xcambiante=xcambiante.astype(float)"
   ]
  },
  {
   "cell_type": "code",
   "execution_count": 8,
   "metadata": {},
   "outputs": [
    {
     "name": "stdout",
     "output_type": "stream",
     "text": [
      "iteracion:  1  Vector resultado:  [ 0.33333333 -0.16666667  0.5       ] error 1.0\n",
      "iteracion:  2  Vector resultado:  [ 0.11111111 -0.22222222  0.61904762] error 0.3589743589743589\n",
      "iteracion:  3  Vector resultado:  [ 0.05291005 -0.23280423  0.64852608] error 0.08974358974358974\n",
      "iteracion:  4  Vector resultado:  [ 0.03955656 -0.23595364  0.65559875] error 0.02036838782288831\n",
      "iteracion:  5  Vector resultado:  [ 0.0361492  -0.23660752  0.65733928] error 0.005183562786816872\n"
     ]
    }
   ],
   "source": [
    "i=0\n",
    "error=1\n",
    "while error>0.01:\n",
    "    i=i+1\n",
    "    x1=np.dot(T[[0,0,0], [0,1,2]],xcambiante)\n",
    "    x1+=c[0]\n",
    "    xcambiante[0]=x1\n",
    "    x2=np.dot(T[[1,1,1], [0,1,2]],xcambiante)\n",
    "    x2+=c[1]\n",
    "    xcambiante[1]=x2\n",
    "    x3=np.dot(T[[2,2,2], [0,1,2]],xcambiante)\n",
    "    x3+=c[2]\n",
    "    xcambiante[2]=x3\n",
    "    #x4=np.dot(T[[3,3,3], [0,1,2]],xcambiante)\n",
    "    #x4+=c[3]\n",
    "    #xcambiante[3]=x4\n",
    "    resultado=np.asarray([x1,x2,x3])\n",
    "    numerador = np.amax(abs(resultado-x))\n",
    "    denominador = np.amax(abs(resultado))\n",
    "    error= numerador/denominador\n",
    "    print(\"iteracion: \",i,\" Vector resultado: \",resultado,\"error\",error)\n",
    "    x=resultado"
   ]
  },
  {
   "cell_type": "code",
   "execution_count": 12,
   "metadata": {},
   "outputs": [],
   "source": [
    "#metodo de newton raphson\n",
    "import numpy as np\n",
    "import math "
   ]
  },
  {
   "cell_type": "code",
   "execution_count": 13,
   "metadata": {},
   "outputs": [],
   "source": [
    "def jacobiano(x):\n",
    "    J = np.array([[3,x[2]*math.sin(x[1]*x[2]),x[1]*math.sin(x[1]*x[2])],[2*x[0], -162*(x[1]+0.1), math.cos(x[2])],[-x[1]*math.exp(-x[0]*x[1]), -x[0]*math.exp(-x[0]*x[1]), 20]])\n",
    "    JInversa = np.linalg.inv(J)\n",
    "    return JInversa\n",
    "\n",
    "def Fx(x):\n",
    "    xk=np.array([3*x[0]-math.cos(x[1]*x[2])-1/2, x[0]**2-81*(x[1]+0.1)**2+math.sin(x[2])+1.06, math.exp(-x[0]*x[1])+ 20*x[2] + (10-math.pi-3)/3])\n",
    "    \n",
    "    #x1 = 3*x[0]-cos(x[1]*x[2])-1/2\n",
    "    \n",
    "    #x2= x[0]**2-81*(x[1]+0.1)**2+sin(x[2])+1.06\n",
    "    \n",
    "    #x3=exp(-x[0]*x[1])+ 20*x[2] + (10-math.pi-3)/3\n",
    "    #xk = np.array([x1,x2,x3])\n",
    "    return xk"
   ]
  },
  {
   "cell_type": "code",
   "execution_count": 14,
   "metadata": {},
   "outputs": [],
   "source": [
    "x = np.array([0.1,0.1,-0.1]) #vector de valores iniciales\n",
    "error = 1\n",
    "c=0"
   ]
  },
  {
   "cell_type": "code",
   "execution_count": 15,
   "metadata": {},
   "outputs": [
    {
     "name": "stdout",
     "output_type": "stream",
     "text": [
      "Iteración: 1  Resultado  [ 0.50000193  0.03203896 -0.1121656 ] error 0.8000007726551202\n",
      "Iteración: 2  Resultado  [ 0.49999914  0.02195527 -0.11376028] error 0.020167410519696234\n",
      "Iteración: 3  Resultado  [ 0.499999    0.02153784 -0.11377123] error 0.0008348571224080044\n"
     ]
    }
   ],
   "source": [
    "while error>0.01:\n",
    "    c+=1\n",
    "    r= jacobiano(x)\n",
    "    feval = Fx(x)\n",
    "    resultado =x- np.dot(r,feval)\n",
    "    \n",
    "    numerador = np.amax( abs((resultado - x)))\n",
    "    denominador = np.amax( abs(resultado))\n",
    "    error = numerador/denominador\n",
    "    x=resultado\n",
    "    \n",
    "    print(\"Iteración:\",c,\" Resultado \",resultado,\"error\",error)"
   ]
  },
  {
   "cell_type": "code",
   "execution_count": 18,
   "metadata": {},
   "outputs": [],
   "source": [
    "#metodo de punto fijo\n",
    "import numpy as np\n",
    "from math import *\n",
    "def g1(x,y):\n",
    "    return (x**2 + y**2 + 8) / 10\n",
    "def g2(x,y):\n",
    "    return (x * y**2 + x  + 8) / 10\n"
   ]
  },
  {
   "cell_type": "code",
   "execution_count": 19,
   "metadata": {},
   "outputs": [],
   "source": [
    "x0 = 0\n",
    "y0 =0\n",
    "error = 0.0001"
   ]
  },
  {
   "cell_type": "code",
   "execution_count": 20,
   "metadata": {},
   "outputs": [
    {
     "name": "stdout",
     "output_type": "stream",
     "text": [
      "x:  0  y:  0\n",
      "x:  0.8  y:  0.88\n",
      "x:  0.9414  y:  0.967\n",
      "x:  0.9821  y:  0.9901\n",
      "x:  0.9945  y:  0.9969\n",
      "x:  0.9983  y:  0.999\n",
      "x:  0.9995  y:  0.9997\n",
      "x:  0.9998  y:  0.9999\n",
      "x:  0.9999  y:  1.0\n"
     ]
    }
   ],
   "source": [
    "condicion = True # variable de control\n",
    "\n",
    "while condicion:\n",
    "    x1 = g1(x0, y0)\n",
    "    y1 = g2(x1, y0)\n",
    "\n",
    "    d = np.sqrt((x1 - x0)**2 + (y1 - y0)**2)\n",
    "    print(\"x: \",round(x0, 4),\" y: \",round(y0, 4))\n",
    "    if d < error:\n",
    "        condicion = False\n",
    "    else:\n",
    "        x0 = x1\n",
    "        y0 = y1"
   ]
  },
  {
   "cell_type": "code",
   "execution_count": null,
   "metadata": {},
   "outputs": [],
   "source": []
  }
 ],
 "metadata": {
  "kernelspec": {
   "display_name": "Python 3",
   "language": "python",
   "name": "python3"
  },
  "language_info": {
   "codemirror_mode": {
    "name": "ipython",
    "version": 3
   },
   "file_extension": ".py",
   "mimetype": "text/x-python",
   "name": "python",
   "nbconvert_exporter": "python",
   "pygments_lexer": "ipython3",
   "version": "3.8.5"
  }
 },
 "nbformat": 4,
 "nbformat_minor": 4
}
